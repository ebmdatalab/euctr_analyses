{
 "cells": [
  {
   "cell_type": "code",
   "execution_count": 43,
   "metadata": {},
   "outputs": [],
   "source": [
    "import pandas as pd\n",
    "import numpy as np\n",
    "import unicodedata\n",
    "import re\n",
    "\n",
    "def norm_names(x):\n",
    "    y1 = re.sub('\\\\t','t',unicodedata.normalize('NFKD', x).encode('ASCII', 'ignore').decode()).strip().lower()\n",
    "    y2 = re.sub('\\\\n', 'n', y1).strip()\n",
    "    z = re.sub('[\\W_]','',y2.replace(' ', '').replace('/',''))\n",
    "    return z   "
   ]
  },
  {
   "cell_type": "code",
   "execution_count": 44,
   "metadata": {},
   "outputs": [],
   "source": [
    "country = 'Ireland'"
   ]
  },
  {
   "cell_type": "code",
   "execution_count": 45,
   "metadata": {},
   "outputs": [],
   "source": [
    "#put your files paths/names in a list here. Index 0=spon_info, 1=normalized_names, 2=trials\n",
    "file_names = ['/Users/nicholasdevito/Desktop/new country pulls/nov2020_spon_info.csv', \n",
    "              '/Users/nicholasdevito/Desktop/new country pulls/normalized_sponsor_names_nov2020.xlsx', \n",
    "              '/Users/nicholasdevito/Desktop/new country pulls/trials_nov.csv']\n",
    "#country_name is a string\n",
    "\n",
    "def get_con_info(file_names, country_name):\n",
    "    spon_df = pd.read_csv(file_names[0]).drop('Unnamed: 0', axis=1)\n",
    "    norm = pd.read_excel(file_names[1])\n",
    "    trials_csv = pd.read_csv(file_names[2])\n",
    "    trials = trials_csv[['trial_id', 'number_of_countries', 'has_results', 'results_expected']].drop_duplicates()\n",
    "    sample = spon_df[(spon_df.sponsor_country == country_name)].reset_index(drop=True)\n",
    "    sample1 = sample.drop_duplicates()\n",
    "    merged = sample.merge(trials, on='trial_id', how='left').fillna('')\n",
    "    merged['name_of_sponsor_lower'] = (merged.sponsor_name.apply(norm_names))\n",
    "    norm_s = norm[['name_of_sponsor', 'normalized_name']].reset_index(drop=True).fillna('')\n",
    "    norm_s['name_of_sponsor_lower'] = (norm_s.name_of_sponsor.apply(norm_names))\n",
    "    with_norm = merged.merge(norm_s, on='name_of_sponsor_lower', how='left', indicator=True)\n",
    "    no_sponsor = with_norm[(with_norm.name_of_sponsor_lower.str.contains('nodata')) | \n",
    "                           (with_norm.name_of_sponsor_lower == '')].index.values.tolist()\n",
    "    for n in no_sponsor:\n",
    "        with_norm.at[n,'normalized_name'] = 'No Sponsor Name Given'\n",
    "        with_norm.at[n,'_merge'] = 'both'\n",
    "    return with_norm\n",
    "\n",
    "first_df = get_con_info(file_names, country)"
   ]
  },
  {
   "cell_type": "code",
   "execution_count": 46,
   "metadata": {},
   "outputs": [
    {
     "data": {
      "text/plain": [
       "[]"
      ]
     },
     "execution_count": 46,
     "metadata": {},
     "output_type": "execute_result"
    }
   ],
   "source": [
    "errors = first_df[first_df._merge == 'left_only'].index.values.tolist()\n",
    "errors"
   ]
  },
  {
   "cell_type": "code",
   "execution_count": 47,
   "metadata": {},
   "outputs": [
    {
     "data": {
      "text/html": [
       "<div>\n",
       "<style scoped>\n",
       "    .dataframe tbody tr th:only-of-type {\n",
       "        vertical-align: middle;\n",
       "    }\n",
       "\n",
       "    .dataframe tbody tr th {\n",
       "        vertical-align: top;\n",
       "    }\n",
       "\n",
       "    .dataframe thead th {\n",
       "        text-align: right;\n",
       "    }\n",
       "</style>\n",
       "<table border=\"1\" class=\"dataframe\">\n",
       "  <thead>\n",
       "    <tr style=\"text-align: right;\">\n",
       "      <th></th>\n",
       "      <th>trial_id</th>\n",
       "      <th>protocol_country</th>\n",
       "      <th>sponsor_name</th>\n",
       "      <th>sponsor_country</th>\n",
       "      <th>sponsor_status</th>\n",
       "      <th>number_of_countries</th>\n",
       "      <th>has_results</th>\n",
       "      <th>results_expected</th>\n",
       "      <th>name_of_sponsor_lower</th>\n",
       "      <th>name_of_sponsor</th>\n",
       "      <th>normalized_name</th>\n",
       "      <th>_merge</th>\n",
       "    </tr>\n",
       "  </thead>\n",
       "  <tbody>\n",
       "  </tbody>\n",
       "</table>\n",
       "</div>"
      ],
      "text/plain": [
       "Empty DataFrame\n",
       "Columns: [trial_id, protocol_country, sponsor_name, sponsor_country, sponsor_status, number_of_countries, has_results, results_expected, name_of_sponsor_lower, name_of_sponsor, normalized_name, _merge]\n",
       "Index: []"
      ]
     },
     "execution_count": 47,
     "metadata": {},
     "output_type": "execute_result"
    }
   ],
   "source": [
    "first_df.iloc[errors]"
   ]
  },
  {
   "cell_type": "code",
   "execution_count": 48,
   "metadata": {},
   "outputs": [
    {
     "data": {
      "text/html": [
       "<div>\n",
       "<style scoped>\n",
       "    .dataframe tbody tr th:only-of-type {\n",
       "        vertical-align: middle;\n",
       "    }\n",
       "\n",
       "    .dataframe tbody tr th {\n",
       "        vertical-align: top;\n",
       "    }\n",
       "\n",
       "    .dataframe thead th {\n",
       "        text-align: right;\n",
       "    }\n",
       "</style>\n",
       "<table border=\"1\" class=\"dataframe\">\n",
       "  <thead>\n",
       "    <tr style=\"text-align: right;\">\n",
       "      <th></th>\n",
       "      <th>trial_id</th>\n",
       "      <th>protocol_country</th>\n",
       "      <th>sponsor_name</th>\n",
       "      <th>sponsor_country</th>\n",
       "      <th>sponsor_status</th>\n",
       "      <th>number_of_countries</th>\n",
       "      <th>has_results</th>\n",
       "      <th>results_expected</th>\n",
       "      <th>name_of_sponsor_lower</th>\n",
       "      <th>name_of_sponsor</th>\n",
       "      <th>normalized_name</th>\n",
       "      <th>_merge</th>\n",
       "    </tr>\n",
       "  </thead>\n",
       "  <tbody>\n",
       "    <tr>\n",
       "      <th>0</th>\n",
       "      <td>2007-007804-14</td>\n",
       "      <td>IE</td>\n",
       "      <td>Coombe Women's Hospital</td>\n",
       "      <td>Ireland</td>\n",
       "      <td>Non-Commercial</td>\n",
       "      <td>1</td>\n",
       "      <td>0</td>\n",
       "      <td>0</td>\n",
       "      <td>coombewomenshospital</td>\n",
       "      <td>Coombe Women's Hospital</td>\n",
       "      <td>Coombe Women's Hospital</td>\n",
       "      <td>both</td>\n",
       "    </tr>\n",
       "    <tr>\n",
       "      <th>1</th>\n",
       "      <td>2009-010918-30</td>\n",
       "      <td>IE</td>\n",
       "      <td>Amar Agha, Beaumont Hospital</td>\n",
       "      <td>Ireland</td>\n",
       "      <td>Non-Commercial</td>\n",
       "      <td>1</td>\n",
       "      <td>0</td>\n",
       "      <td>0</td>\n",
       "      <td>amaraghabeaumonthospital</td>\n",
       "      <td>Amar Agha, Beaumont Hospital</td>\n",
       "      <td>Beaumont Hospital</td>\n",
       "      <td>both</td>\n",
       "    </tr>\n",
       "    <tr>\n",
       "      <th>2</th>\n",
       "      <td>2011-000591-34</td>\n",
       "      <td>IE</td>\n",
       "      <td>Mater University Hospital</td>\n",
       "      <td>Ireland</td>\n",
       "      <td>Non-Commercial</td>\n",
       "      <td>1</td>\n",
       "      <td>0</td>\n",
       "      <td>0</td>\n",
       "      <td>materuniversityhospital</td>\n",
       "      <td>Mater University Hospital</td>\n",
       "      <td>Mater University Hospital</td>\n",
       "      <td>both</td>\n",
       "    </tr>\n",
       "    <tr>\n",
       "      <th>3</th>\n",
       "      <td>2011-002561-38</td>\n",
       "      <td>IE</td>\n",
       "      <td>St. Vincent's University Hospital</td>\n",
       "      <td>Ireland</td>\n",
       "      <td>Non-Commercial</td>\n",
       "      <td>1</td>\n",
       "      <td>0</td>\n",
       "      <td>0</td>\n",
       "      <td>stvincentsuniversityhospital</td>\n",
       "      <td>St. Vincent's University Hospital</td>\n",
       "      <td>St. Vincent's University Hospital</td>\n",
       "      <td>both</td>\n",
       "    </tr>\n",
       "    <tr>\n",
       "      <th>4</th>\n",
       "      <td>2011-001180-53</td>\n",
       "      <td>CZ</td>\n",
       "      <td>Janssen R&amp;D Ireland</td>\n",
       "      <td>Ireland</td>\n",
       "      <td>Commercial</td>\n",
       "      <td>15</td>\n",
       "      <td>1</td>\n",
       "      <td>0</td>\n",
       "      <td>janssenrdireland</td>\n",
       "      <td>Janssen R&amp;D, Ireland</td>\n",
       "      <td>Johnson &amp; Johnson</td>\n",
       "      <td>both</td>\n",
       "    </tr>\n",
       "  </tbody>\n",
       "</table>\n",
       "</div>"
      ],
      "text/plain": [
       "         trial_id protocol_country                       sponsor_name  \\\n",
       "0  2007-007804-14               IE            Coombe Women's Hospital   \n",
       "1  2009-010918-30               IE       Amar Agha, Beaumont Hospital   \n",
       "2  2011-000591-34               IE          Mater University Hospital   \n",
       "3  2011-002561-38               IE  St. Vincent's University Hospital   \n",
       "4  2011-001180-53               CZ                Janssen R&D Ireland   \n",
       "\n",
       "  sponsor_country  sponsor_status  number_of_countries  has_results  \\\n",
       "0         Ireland  Non-Commercial                    1            0   \n",
       "1         Ireland  Non-Commercial                    1            0   \n",
       "2         Ireland  Non-Commercial                    1            0   \n",
       "3         Ireland  Non-Commercial                    1            0   \n",
       "4         Ireland      Commercial                   15            1   \n",
       "\n",
       "   results_expected         name_of_sponsor_lower  \\\n",
       "0                 0          coombewomenshospital   \n",
       "1                 0      amaraghabeaumonthospital   \n",
       "2                 0       materuniversityhospital   \n",
       "3                 0  stvincentsuniversityhospital   \n",
       "4                 0              janssenrdireland   \n",
       "\n",
       "                     name_of_sponsor                    normalized_name _merge  \n",
       "0            Coombe Women's Hospital            Coombe Women's Hospital   both  \n",
       "1       Amar Agha, Beaumont Hospital                  Beaumont Hospital   both  \n",
       "2          Mater University Hospital          Mater University Hospital   both  \n",
       "3  St. Vincent's University Hospital  St. Vincent's University Hospital   both  \n",
       "4               Janssen R&D, Ireland                  Johnson & Johnson   both  "
      ]
     },
     "execution_count": 48,
     "metadata": {},
     "output_type": "execute_result"
    }
   ],
   "source": [
    "first_df.head()"
   ]
  },
  {
   "cell_type": "code",
   "execution_count": 49,
   "metadata": {},
   "outputs": [
    {
     "name": "stderr",
     "output_type": "stream",
     "text": [
      "/Users/nicholasdevito/anaconda3/lib/python3.7/site-packages/pandas/core/computation/expressions.py:68: FutureWarning: elementwise comparison failed; returning scalar instead, but in the future will perform elementwise comparison\n",
      "  return op(a, b)\n",
      "/Users/nicholasdevito/anaconda3/lib/python3.7/site-packages/pandas/core/computation/expressions.py:68: FutureWarning: elementwise comparison failed; returning scalar instead, but in the future will perform elementwise comparison\n",
      "  return op(a, b)\n"
     ]
    }
   ],
   "source": [
    "def final_data(df, summary=True):\n",
    "    df.rename(columns={'sponsor_name': 'euctr_name'}, inplace=True)\n",
    "    almost_df = df[['trial_id','sponsor_country', 'normalized_name', 'sponsor_status', 'results_expected', \n",
    "                           'has_results']]\n",
    "    final_df = almost_df[(almost_df.has_results.notnull()) & (almost_df.has_results != '')].reset_index(drop=True)\n",
    "    final_df['results_expected'] = final_df.results_expected.astype(int)\n",
    "    final_df['has_results'] = final_df.has_results.astype(int)\n",
    "    final_df['due_with_results'] = np.where((final_df.has_results == 1) & (final_df.results_expected == 1), 1,0)\n",
    "    trial_count = final_df[['trial_id', 'normalized_name']].drop_duplicates().groupby('normalized_name').count()\n",
    "    final_df['commercial_status'] = np.where(final_df['sponsor_status'] == 'Commercial',1,0)\n",
    "    final_df['non-commercial_stauts'] = np.where(final_df['sponsor_status'] == 'Non-Commercial',1,0)\n",
    "    final_df = final_df.drop_duplicates().reset_index(drop=True)\n",
    "    if summary:\n",
    "        summ_df = final_df.groupby('normalized_name').sum()\n",
    "        summ_df = summ_df.merge(trial_count, on='normalized_name').rename(columns={'trial_id': 'trial_count'})\n",
    "        return summ_df\n",
    "    elif not summary:\n",
    "        return final_df\n",
    "\n",
    "final_data(first_df).to_csv('{}_summary_counts_nov2020.csv'.format(country))\n",
    "final_data(first_df, summary=False).to_csv('combined_sponsor_info_{}_nov2020.csv'.format(country))"
   ]
  },
  {
   "cell_type": "code",
   "execution_count": null,
   "metadata": {},
   "outputs": [],
   "source": []
  },
  {
   "cell_type": "code",
   "execution_count": null,
   "metadata": {},
   "outputs": [],
   "source": [
    "testing = pd.read_json('/Users/nicholasdevito/Desktop/all_sponsors.json-2.txt')"
   ]
  },
  {
   "cell_type": "code",
   "execution_count": null,
   "metadata": {},
   "outputs": [],
   "source": [
    "testing[(testing.total_trials >= 10) & (testing.total_trials <= 50)].to_csv('/Users/nicholasdevito/Desktop/testing.csv')"
   ]
  },
  {
   "cell_type": "code",
   "execution_count": null,
   "metadata": {},
   "outputs": [],
   "source": [
    "testing.parents[0]"
   ]
  },
  {
   "cell_type": "code",
   "execution_count": null,
   "metadata": {},
   "outputs": [],
   "source": []
  }
 ],
 "metadata": {
  "kernelspec": {
   "display_name": "Python 3",
   "language": "python",
   "name": "python3"
  },
  "language_info": {
   "codemirror_mode": {
    "name": "ipython",
    "version": 3
   },
   "file_extension": ".py",
   "mimetype": "text/x-python",
   "name": "python",
   "nbconvert_exporter": "python",
   "pygments_lexer": "ipython3",
   "version": "3.7.6"
  }
 },
 "nbformat": 4,
 "nbformat_minor": 2
}
